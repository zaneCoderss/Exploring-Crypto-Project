{
 "cells": [
  {
   "cell_type": "code",
   "execution_count": 4,
   "metadata": {},
   "outputs": [
    {
     "name": "stdin",
     "output_type": "stream",
     "text": [
      "Enter the number of loans funded per month:  8\n",
      "Enter the average home value: $ 400000\n"
     ]
    },
    {
     "name": "stdout",
     "output_type": "stream",
     "text": [
      "Total Expected income with 8 loans funded per month is :$ 22,380 per month or $ 268,560 per annum\n",
      "\n",
      "Assumptions: \n",
      " Base pay calculated at $13/hr, 40 hrs/week, 4 weeks/month; \n",
      " Monthly commission calculated using average Home Value of $200,000\n"
     ]
    }
   ],
   "source": [
    "import pandas as pd\n",
    "\n",
    "file = pd.read_excel(r'AAG.xlsx')\n",
    "file.set_index('Count', inplace = True)\n",
    "i = int(input(\"Enter the number of loans funded per month: \"))\n",
    "h = int(input(\"Enter the average home value: $\"))\n",
    "if i < 3:\n",
    "    print(\"Oops, you might want to pick up that phone and start dialing\")\n",
    "elif i > 13:\n",
    "    print(\"Big Baller!! Let's come back to Earth and try that again\")\n",
    "else:\n",
    "    bonus = file.at[(i*3),'Bonus']\n",
    "    base = (13*40*4)\n",
    "    comm = int((400+(0.0025*h))*i)\n",
    "    total = (base+bonus+comm)\n",
    "\n",
    "    print(f\"Total Expected income with {i} loans funded per month is :${total: ,d} per month or ${(total*12): ,d} per annum\")\n",
    "    print(\"\")\n",
    "    print('Assumptions: \\n Base pay calculated at $13/hr, 40 hrs/week, 4 weeks/month; \\n Monthly commission calculated using average Home Value of $200,000')"
   ]
  },
  {
   "cell_type": "code",
   "execution_count": null,
   "metadata": {},
   "outputs": [],
   "source": []
  }
 ],
 "metadata": {
  "kernelspec": {
   "display_name": "Python 3",
   "language": "python",
   "name": "python3"
  },
  "language_info": {
   "codemirror_mode": {
    "name": "ipython",
    "version": 3
   },
   "file_extension": ".py",
   "mimetype": "text/x-python",
   "name": "python",
   "nbconvert_exporter": "python",
   "pygments_lexer": "ipython3",
   "version": "3.7.4"
  }
 },
 "nbformat": 4,
 "nbformat_minor": 4
}
